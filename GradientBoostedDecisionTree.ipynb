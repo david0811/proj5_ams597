{
  "nbformat": 4,
  "nbformat_minor": 0,
  "metadata": {
    "kernelspec": {
      "display_name": "Python 3",
      "language": "python",
      "name": "python3"
    },
    "language_info": {
      "codemirror_mode": {
        "name": "ipython",
        "version": 3
      },
      "file_extension": ".py",
      "mimetype": "text/x-python",
      "name": "python",
      "nbconvert_exporter": "python",
      "pygments_lexer": "ipython3",
      "version": "3.7.6"
    },
    "colab": {
      "name": "GradientBoostedDecisionTree.ipynb",
      "provenance": [],
      "include_colab_link": true
    }
  },
  "cells": [
    {
      "cell_type": "markdown",
      "metadata": {
        "id": "view-in-github",
        "colab_type": "text"
      },
      "source": [
        "<a href=\"https://colab.research.google.com/github/chuchun2/proj5_ams597/blob/edit_chuchun/GradientBoostedDecisionTree.ipynb\" target=\"_parent\"><img src=\"https://colab.research.google.com/assets/colab-badge.svg\" alt=\"Open In Colab\"/></a>"
      ]
    },
    {
      "cell_type": "code",
      "metadata": {
        "id": "OFlcydQLkxxd",
        "colab_type": "code",
        "colab": {}
      },
      "source": [
        "import pandas as pd\n",
        "import numpy as np\n",
        "import matplotlib.pyplot as plt\n",
        "from sklearn.model_selection import train_test_split\n",
        "from sklearn.linear_model import LogisticRegression\n",
        "from sklearn.metrics import confusion_matrix\n",
        "from sklearn.ensemble import GradientBoostingClassifier\n",
        "from sklearn.metrics import brier_score_loss\n",
        "%matplotlib inline"
      ],
      "execution_count": 0,
      "outputs": []
    },
    {
      "cell_type": "code",
      "metadata": {
        "id": "6swscL3F4RhO",
        "colab_type": "code",
        "outputId": "984f1435-b7ca-4b93-8935-c996cfbdd22b",
        "colab": {
          "base_uri": "https://localhost:8080/",
          "height": 34
        }
      },
      "source": [
        "from google.colab import drive\n",
        "drive.mount('/content/drive')"
      ],
      "execution_count": 4,
      "outputs": [
        {
          "output_type": "stream",
          "text": [
            "Drive already mounted at /content/drive; to attempt to forcibly remount, call drive.mount(\"/content/drive\", force_remount=True).\n"
          ],
          "name": "stdout"
        }
      ]
    },
    {
      "cell_type": "code",
      "metadata": {
        "id": "_WbA9WVS4Yjr",
        "colab_type": "code",
        "outputId": "4184ff34-9c76-4ca8-86c1-e3a6391b6fd4",
        "colab": {
          "base_uri": "https://localhost:8080/",
          "height": 34
        }
      },
      "source": [
        "# Set your directory\n",
        "%cd /content/drive/My Drive/ATMS597 Weather Climate Data Analysis/Module 5/Project 5 "
      ],
      "execution_count": 5,
      "outputs": [
        {
          "output_type": "stream",
          "text": [
            "/content/drive/My Drive/ATMS597 Weather Climate Data Analysis/Module 5/Project 5\n"
          ],
          "name": "stdout"
        }
      ]
    },
    {
      "cell_type": "markdown",
      "metadata": {
        "id": "9uXrt-JY4Om8",
        "colab_type": "text"
      },
      "source": [
        "## Data pre-processing"
      ]
    },
    {
      "cell_type": "code",
      "metadata": {
        "id": "kfojPe4d4Om9",
        "colab_type": "code",
        "outputId": "4238aee0-5a27-4c96-9f1d-92ab6dfb9e01",
        "colab": {
          "base_uri": "https://localhost:8080/",
          "height": 51
        }
      },
      "source": [
        "# Read data\n",
        "data = pd.read_csv('./data_clean.csv', index_col='date_time', parse_dates=True)"
      ],
      "execution_count": 6,
      "outputs": [
        {
          "output_type": "stream",
          "text": [
            "/usr/local/lib/python3.6/dist-packages/IPython/core/interactiveshell.py:2718: DtypeWarning: Columns (10,17) have mixed types.Specify dtype option on import or set low_memory=False.\n",
            "  interactivity=interactivity, compiler=compiler, result=result)\n"
          ],
          "name": "stderr"
        }
      ]
    },
    {
      "cell_type": "code",
      "metadata": {
        "id": "A_ECi5EN4OnD",
        "colab_type": "code",
        "outputId": "f412ecb1-2cdc-4b04-c878-f63f2af3b13c",
        "colab": {
          "base_uri": "https://localhost:8080/",
          "height": 172
        }
      },
      "source": [
        "data.columns"
      ],
      "execution_count": 7,
      "outputs": [
        {
          "output_type": "execute_result",
          "data": {
            "text/plain": [
              "Index(['station_id', 'latitude', 'longitude', 'elevation', 'date_time.1',\n",
              "       'wind_direction', 'wind_speed', 'current_wx1', 'current_wx2',\n",
              "       'current_wx3', 'low_cloud_type', 'low_cloud_level', 'medium_cloud_type',\n",
              "       'medium_cloud_level', 'high_cloud_type', 'high_cloud_level',\n",
              "       'highest_cloud_type', 'highest_cloud_level', 'cloud_coverage',\n",
              "       'air_temperature', 'dew_point_temperature', 'altimeter',\n",
              "       'present_weather', 'past_weather', 'past_weather2',\n",
              "       'air_pressure_at_sea_level', 'eastward_wind', 'northward_wind'],\n",
              "      dtype='object')"
            ]
          },
          "metadata": {
            "tags": []
          },
          "execution_count": 7
        }
      ]
    },
    {
      "cell_type": "code",
      "metadata": {
        "id": "mD-upweH4OnI",
        "colab_type": "code",
        "colab": {}
      },
      "source": [
        "# Drop NaNs or constants\n",
        "data.drop(columns = ['date_time.1', 'station_id', 'latitude', 'longitude', 'elevation', 'current_wx2', 'current_wx3', 'air_pressure_at_sea_level'], inplace = True)"
      ],
      "execution_count": 0,
      "outputs": []
    },
    {
      "cell_type": "code",
      "metadata": {
        "id": "eWtYDsa74OnP",
        "colab_type": "code",
        "outputId": "39ba5fe5-c1a2-4e4b-ebf8-5ebe0d0b82f9",
        "colab": {
          "base_uri": "https://localhost:8080/",
          "height": 69
        }
      },
      "source": [
        "# Unique weather symbols\n",
        "data['current_wx1'].unique()"
      ],
      "execution_count": 9,
      "outputs": [
        {
          "output_type": "execute_result",
          "data": {
            "text/plain": [
              "array(['BR', 'HZ', '-RA', '-FZRA', '-SN', 'SN', 'FG', 'RA', 'FZFG', '+SN',\n",
              "       '+RA', '+TSRA', 'TSRA', '-TSRA', 'FZRA', 'BL', 'TS', '-SNRA',\n",
              "       'VCTS', '+TS', '-TS', 'MIFG', '-SH', 'FZDZ'], dtype=object)"
            ]
          },
          "metadata": {
            "tags": []
          },
          "execution_count": 9
        }
      ]
    },
    {
      "cell_type": "code",
      "metadata": {
        "id": "Oaef_z_s4OnT",
        "colab_type": "code",
        "outputId": "225a3741-69fa-4501-bfc9-a457c4505856",
        "colab": {
          "base_uri": "https://localhost:8080/",
          "height": 51
        }
      },
      "source": [
        "# Unique weather codes\n",
        "data['present_weather'].unique()"
      ],
      "execution_count": 10,
      "outputs": [
        {
          "output_type": "execute_result",
          "data": {
            "text/plain": [
              "array([10,  5, 61, 66, 71, 73, 45, 63, 49, 75, 65, 97, 95, 67,  0, 17, 68,\n",
              "       13, 12, 80, 57])"
            ]
          },
          "metadata": {
            "tags": []
          },
          "execution_count": 10
        }
      ]
    },
    {
      "cell_type": "code",
      "metadata": {
        "id": "l0MxfCls4OnZ",
        "colab_type": "code",
        "colab": {}
      },
      "source": [
        "# Choose classifications: 0 for liquid precipitation (rain, feezing rain, thunderstorm + rain, showers, freezing drizzle); 1 for solid (snow)\n",
        "# METAR info here: https://en.wikipedia.org/wiki/METAR\n",
        "wx_to_prcp = {'RA' : 0, '-RA' : 0, '+RA' : 0, 'FZRA' : 0, '-FZRA' : 0, '+FZRA' : 0, 'SN' : 1, '-SN' : 1, '+SN' : 1, 'TSRA' : 0, '-TSRA' : 0, '+TSRA' : 0}"
      ],
      "execution_count": 0,
      "outputs": []
    },
    {
      "cell_type": "code",
      "metadata": {
        "id": "N__3tJaL4Ong",
        "colab_type": "code",
        "colab": {}
      },
      "source": [
        "# Simple dictionary lookup to classify weather symbols\n",
        "def classify_prcp(wx_code):\n",
        "    try:\n",
        "        return wx_to_prcp[wx_code]\n",
        "    except:\n",
        "        return np.NaN    "
      ],
      "execution_count": 0,
      "outputs": []
    },
    {
      "cell_type": "code",
      "metadata": {
        "id": "W19bPUq64Onj",
        "colab_type": "code",
        "colab": {}
      },
      "source": [
        "# Apply to data\n",
        "data['prcp_type'] = data['current_wx1'].apply(classify_prcp)"
      ],
      "execution_count": 0,
      "outputs": []
    },
    {
      "cell_type": "code",
      "metadata": {
        "id": "CXX-wApa4Onn",
        "colab_type": "code",
        "colab": {}
      },
      "source": [
        "# Filter for precipitating observations\n",
        "data = data.dropna(subset = ['prcp_type'])"
      ],
      "execution_count": 0,
      "outputs": []
    },
    {
      "cell_type": "code",
      "metadata": {
        "id": "AE-iGQ744Ont",
        "colab_type": "code",
        "colab": {}
      },
      "source": [
        "# One-hot encoding for dates\n",
        "data['month'] = data.index.month\n",
        "data['day'] = data.index.day\n",
        "data['hour'] = data.index.hour"
      ],
      "execution_count": 0,
      "outputs": []
    },
    {
      "cell_type": "code",
      "metadata": {
        "id": "fLUTpiN_4Onz",
        "colab_type": "code",
        "outputId": "c888747f-438d-4bd4-8c45-acf76c123564",
        "colab": {
          "base_uri": "https://localhost:8080/",
          "height": 421
        }
      },
      "source": [
        "data.head()"
      ],
      "execution_count": 16,
      "outputs": [
        {
          "output_type": "execute_result",
          "data": {
            "text/html": [
              "<div>\n",
              "<style scoped>\n",
              "    .dataframe tbody tr th:only-of-type {\n",
              "        vertical-align: middle;\n",
              "    }\n",
              "\n",
              "    .dataframe tbody tr th {\n",
              "        vertical-align: top;\n",
              "    }\n",
              "\n",
              "    .dataframe thead th {\n",
              "        text-align: right;\n",
              "    }\n",
              "</style>\n",
              "<table border=\"1\" class=\"dataframe\">\n",
              "  <thead>\n",
              "    <tr style=\"text-align: right;\">\n",
              "      <th></th>\n",
              "      <th>wind_direction</th>\n",
              "      <th>wind_speed</th>\n",
              "      <th>current_wx1</th>\n",
              "      <th>low_cloud_type</th>\n",
              "      <th>low_cloud_level</th>\n",
              "      <th>medium_cloud_type</th>\n",
              "      <th>medium_cloud_level</th>\n",
              "      <th>high_cloud_type</th>\n",
              "      <th>high_cloud_level</th>\n",
              "      <th>highest_cloud_type</th>\n",
              "      <th>highest_cloud_level</th>\n",
              "      <th>cloud_coverage</th>\n",
              "      <th>air_temperature</th>\n",
              "      <th>dew_point_temperature</th>\n",
              "      <th>altimeter</th>\n",
              "      <th>present_weather</th>\n",
              "      <th>past_weather</th>\n",
              "      <th>past_weather2</th>\n",
              "      <th>eastward_wind</th>\n",
              "      <th>northward_wind</th>\n",
              "      <th>prcp_type</th>\n",
              "      <th>month</th>\n",
              "      <th>day</th>\n",
              "      <th>hour</th>\n",
              "    </tr>\n",
              "    <tr>\n",
              "      <th>date_time</th>\n",
              "      <th></th>\n",
              "      <th></th>\n",
              "      <th></th>\n",
              "      <th></th>\n",
              "      <th></th>\n",
              "      <th></th>\n",
              "      <th></th>\n",
              "      <th></th>\n",
              "      <th></th>\n",
              "      <th></th>\n",
              "      <th></th>\n",
              "      <th></th>\n",
              "      <th></th>\n",
              "      <th></th>\n",
              "      <th></th>\n",
              "      <th></th>\n",
              "      <th></th>\n",
              "      <th></th>\n",
              "      <th></th>\n",
              "      <th></th>\n",
              "      <th></th>\n",
              "      <th></th>\n",
              "      <th></th>\n",
              "      <th></th>\n",
              "    </tr>\n",
              "  </thead>\n",
              "  <tbody>\n",
              "    <tr>\n",
              "      <th>2000-01-02 01:25:00</th>\n",
              "      <td>90.0</td>\n",
              "      <td>12.0</td>\n",
              "      <td>-RA</td>\n",
              "      <td>SCT</td>\n",
              "      <td>7000.0</td>\n",
              "      <td>OVC</td>\n",
              "      <td>8500.0</td>\n",
              "      <td>NaN</td>\n",
              "      <td>NaN</td>\n",
              "      <td>NaN</td>\n",
              "      <td>NaN</td>\n",
              "      <td>8</td>\n",
              "      <td>3.0</td>\n",
              "      <td>1.0</td>\n",
              "      <td>29.79</td>\n",
              "      <td>61</td>\n",
              "      <td>0</td>\n",
              "      <td>0</td>\n",
              "      <td>-12.000000</td>\n",
              "      <td>-7.347881e-16</td>\n",
              "      <td>0.0</td>\n",
              "      <td>1</td>\n",
              "      <td>2</td>\n",
              "      <td>1</td>\n",
              "    </tr>\n",
              "    <tr>\n",
              "      <th>2000-01-02 01:30:00</th>\n",
              "      <td>90.0</td>\n",
              "      <td>13.0</td>\n",
              "      <td>-RA</td>\n",
              "      <td>OVC</td>\n",
              "      <td>7500.0</td>\n",
              "      <td>NaN</td>\n",
              "      <td>NaN</td>\n",
              "      <td>NaN</td>\n",
              "      <td>NaN</td>\n",
              "      <td>NaN</td>\n",
              "      <td>NaN</td>\n",
              "      <td>8</td>\n",
              "      <td>3.0</td>\n",
              "      <td>1.0</td>\n",
              "      <td>29.79</td>\n",
              "      <td>61</td>\n",
              "      <td>0</td>\n",
              "      <td>0</td>\n",
              "      <td>-13.000000</td>\n",
              "      <td>-7.960204e-16</td>\n",
              "      <td>0.0</td>\n",
              "      <td>1</td>\n",
              "      <td>2</td>\n",
              "      <td>1</td>\n",
              "    </tr>\n",
              "    <tr>\n",
              "      <th>2000-01-02 01:35:00</th>\n",
              "      <td>100.0</td>\n",
              "      <td>10.0</td>\n",
              "      <td>-RA</td>\n",
              "      <td>OVC</td>\n",
              "      <td>8000.0</td>\n",
              "      <td>NaN</td>\n",
              "      <td>NaN</td>\n",
              "      <td>NaN</td>\n",
              "      <td>NaN</td>\n",
              "      <td>NaN</td>\n",
              "      <td>NaN</td>\n",
              "      <td>8</td>\n",
              "      <td>3.0</td>\n",
              "      <td>1.0</td>\n",
              "      <td>29.80</td>\n",
              "      <td>61</td>\n",
              "      <td>0</td>\n",
              "      <td>0</td>\n",
              "      <td>-9.848078</td>\n",
              "      <td>1.736482e+00</td>\n",
              "      <td>0.0</td>\n",
              "      <td>1</td>\n",
              "      <td>2</td>\n",
              "      <td>1</td>\n",
              "    </tr>\n",
              "    <tr>\n",
              "      <th>2000-01-02 04:10:00</th>\n",
              "      <td>80.0</td>\n",
              "      <td>11.0</td>\n",
              "      <td>-RA</td>\n",
              "      <td>FEW</td>\n",
              "      <td>6000.0</td>\n",
              "      <td>OVC</td>\n",
              "      <td>8500.0</td>\n",
              "      <td>NaN</td>\n",
              "      <td>NaN</td>\n",
              "      <td>NaN</td>\n",
              "      <td>NaN</td>\n",
              "      <td>8</td>\n",
              "      <td>4.0</td>\n",
              "      <td>2.0</td>\n",
              "      <td>29.73</td>\n",
              "      <td>61</td>\n",
              "      <td>0</td>\n",
              "      <td>0</td>\n",
              "      <td>-10.832885</td>\n",
              "      <td>-1.910130e+00</td>\n",
              "      <td>0.0</td>\n",
              "      <td>1</td>\n",
              "      <td>2</td>\n",
              "      <td>4</td>\n",
              "    </tr>\n",
              "    <tr>\n",
              "      <th>2000-01-02 04:15:00</th>\n",
              "      <td>90.0</td>\n",
              "      <td>14.0</td>\n",
              "      <td>-RA</td>\n",
              "      <td>FEW</td>\n",
              "      <td>6000.0</td>\n",
              "      <td>OVC</td>\n",
              "      <td>8000.0</td>\n",
              "      <td>NaN</td>\n",
              "      <td>NaN</td>\n",
              "      <td>NaN</td>\n",
              "      <td>NaN</td>\n",
              "      <td>8</td>\n",
              "      <td>4.0</td>\n",
              "      <td>2.0</td>\n",
              "      <td>29.73</td>\n",
              "      <td>61</td>\n",
              "      <td>0</td>\n",
              "      <td>0</td>\n",
              "      <td>-14.000000</td>\n",
              "      <td>-8.572528e-16</td>\n",
              "      <td>0.0</td>\n",
              "      <td>1</td>\n",
              "      <td>2</td>\n",
              "      <td>4</td>\n",
              "    </tr>\n",
              "  </tbody>\n",
              "</table>\n",
              "</div>"
            ],
            "text/plain": [
              "                     wind_direction  wind_speed current_wx1  ... month  day hour\n",
              "date_time                                                    ...                \n",
              "2000-01-02 01:25:00            90.0        12.0         -RA  ...     1    2    1\n",
              "2000-01-02 01:30:00            90.0        13.0         -RA  ...     1    2    1\n",
              "2000-01-02 01:35:00           100.0        10.0         -RA  ...     1    2    1\n",
              "2000-01-02 04:10:00            80.0        11.0         -RA  ...     1    2    4\n",
              "2000-01-02 04:15:00            90.0        14.0         -RA  ...     1    2    4\n",
              "\n",
              "[5 rows x 24 columns]"
            ]
          },
          "metadata": {
            "tags": []
          },
          "execution_count": 16
        }
      ]
    },
    {
      "cell_type": "markdown",
      "metadata": {
        "id": "V7unPXeB4On3",
        "colab_type": "text"
      },
      "source": [
        "## Logistic Regression Model"
      ]
    },
    {
      "cell_type": "code",
      "metadata": {
        "id": "w0e10soy4On4",
        "colab_type": "code",
        "colab": {}
      },
      "source": [
        "# Choose features - this could be updated later\n",
        "data = data.filter(['wind_direction', 'wind_speed',\n",
        "                    'low_cloud_level', 'low_cloud_type', 'cloud_coverage', # Medium or high cloud data contains many many NaNs\n",
        "                    'air_temperature', 'dew_point_temperature', \n",
        "                    'altimeter', 'eastward_wind', 'northward_wind',\n",
        "                    'month', 'day', 'hour',\n",
        "                    'prcp_type']).dropna()"
      ],
      "execution_count": 0,
      "outputs": []
    },
    {
      "cell_type": "code",
      "metadata": {
        "id": "DLD-P8Rc4On8",
        "colab_type": "code",
        "colab": {}
      },
      "source": [
        "# One-hot encoding for cloud type\n",
        "data = pd.get_dummies(data)"
      ],
      "execution_count": 0,
      "outputs": []
    },
    {
      "cell_type": "code",
      "metadata": {
        "id": "_tTT1JsP4OoA",
        "colab_type": "code",
        "colab": {}
      },
      "source": [
        "# Separate labels\n",
        "labels = data['prcp_type'].to_numpy()\n",
        "features = data.drop(columns = ['prcp_type']).to_numpy()"
      ],
      "execution_count": 0,
      "outputs": []
    },
    {
      "cell_type": "code",
      "metadata": {
        "id": "tC4PyURe4OoD",
        "colab_type": "code",
        "colab": {}
      },
      "source": [
        "# Split the data into training and testing sets\n",
        "train_features, test_features, train_labels, test_labels = train_test_split(features, labels, test_size = 0.3, random_state = 42)"
      ],
      "execution_count": 0,
      "outputs": []
    },
    {
      "cell_type": "code",
      "metadata": {
        "id": "9Xek8D8a4OoH",
        "colab_type": "code",
        "outputId": "1f3e007d-bdf0-45bc-c4bc-bf0d6cfd7ce3",
        "colab": {
          "base_uri": "https://localhost:8080/",
          "height": 86
        }
      },
      "source": [
        "print('Training Features Shape:', train_features.shape)\n",
        "print('Training Labels Shape:', train_labels.shape)\n",
        "print('Testing Features Shape:', test_features.shape)\n",
        "print('Testing Labels Shape:', test_labels.shape)"
      ],
      "execution_count": 21,
      "outputs": [
        {
          "output_type": "stream",
          "text": [
            "Training Features Shape: (78136, 17)\n",
            "Training Labels Shape: (78136,)\n",
            "Testing Features Shape: (33488, 17)\n",
            "Testing Labels Shape: (33488,)\n"
          ],
          "name": "stdout"
        }
      ]
    },
    {
      "cell_type": "code",
      "metadata": {
        "id": "Z0uVh38k4OoL",
        "colab_type": "code",
        "outputId": "ad980e67-02af-44db-c39b-fb96fb1e4012",
        "colab": {
          "base_uri": "https://localhost:8080/",
          "height": 103
        }
      },
      "source": [
        "# Train the model!\n",
        "clf = LogisticRegression(max_iter=10e10, random_state=42)\n",
        "clf.fit(train_features, train_labels)"
      ],
      "execution_count": 22,
      "outputs": [
        {
          "output_type": "execute_result",
          "data": {
            "text/plain": [
              "LogisticRegression(C=1.0, class_weight=None, dual=False, fit_intercept=True,\n",
              "                   intercept_scaling=1, l1_ratio=None, max_iter=100000000000.0,\n",
              "                   multi_class='auto', n_jobs=None, penalty='l2',\n",
              "                   random_state=42, solver='lbfgs', tol=0.0001, verbose=0,\n",
              "                   warm_start=False)"
            ]
          },
          "metadata": {
            "tags": []
          },
          "execution_count": 22
        }
      ]
    },
    {
      "cell_type": "code",
      "metadata": {
        "id": "mgn1Mxsr4OoQ",
        "colab_type": "code",
        "outputId": "4fb2a595-f180-43f7-df41-97b1a79fceca",
        "colab": {
          "base_uri": "https://localhost:8080/",
          "height": 51
        }
      },
      "source": [
        "# How well did we do?\n",
        "print('Training data score: ' + str(clf.score(train_features, train_labels)))\n",
        "print('Testing data score: ' + str(clf.score(test_features, test_labels)))"
      ],
      "execution_count": 23,
      "outputs": [
        {
          "output_type": "stream",
          "text": [
            "Training data score: 0.9552319033480086\n",
            "Testing data score: 0.9554168657429527\n"
          ],
          "name": "stdout"
        }
      ]
    },
    {
      "cell_type": "markdown",
      "metadata": {
        "id": "A1BM4kjIiygk",
        "colab_type": "text"
      },
      "source": [
        "## Gradient-Boosted Decision Tree"
      ]
    },
    {
      "cell_type": "code",
      "metadata": {
        "id": "GIf18FyV5cmk",
        "colab_type": "code",
        "outputId": "fc4854f8-5083-480c-bf49-ab7b3b541dd0",
        "colab": {
          "base_uri": "https://localhost:8080/",
          "height": 86
        }
      },
      "source": [
        "# Gradient Boosting for classification\n",
        "# gb_clf = GradientBoostingClassifier(n_estimators=1000)\n",
        "gb_clf = GradientBoostingClassifier(n_estimators=400, min_samples_split=2, min_samples_leaf=1, max_features='sqrt', max_depth=None)\n",
        "\n",
        "# Train the model with training set\n",
        "gb_clf.fit(train_features, train_labels)\n",
        "\n",
        "# Score\n",
        "print('Training data score: ' + str(gb_clf.score(train_features, train_labels)))\n",
        "print('Testing data score: ' + str(gb_clf.score(test_features, test_labels)))\n",
        "\n",
        "# Brier score\n",
        "print('Training Brier score: ' + str(brier_score_loss(train_labels, gb_clf.predict(train_features))))\n",
        "print('Testing Brier score: ' + str(brier_score_loss(test_labels, gb_clf.predict(test_features))))"
      ],
      "execution_count": 24,
      "outputs": [
        {
          "output_type": "stream",
          "text": [
            "Training data score: 0.9997952288317805\n",
            "Testing data score: 0.9957895365504061\n",
            "Training Brier score: 0.0002047711682195147\n",
            "Testing Brier score: 0.004210463449593884\n"
          ],
          "name": "stdout"
        }
      ]
    },
    {
      "cell_type": "markdown",
      "metadata": {
        "id": "WwPGEbBHKLkk",
        "colab_type": "text"
      },
      "source": [
        "### Hyperparameter Tuning"
      ]
    },
    {
      "cell_type": "code",
      "metadata": {
        "id": "7wSdipvPnDq7",
        "colab_type": "code",
        "colab": {
          "base_uri": "https://localhost:8080/",
          "height": 429
        },
        "outputId": "b003b778-24df-4037-ed49-7d2d776f6937"
      },
      "source": [
        "# Using Random Search Cross Validation in Scikit-Learn\n",
        "from pprint import pprint\n",
        "# Look at parameters used by our current forest\n",
        "print('Parameters currently in use:\\n')\n",
        "pprint(gb_clf.get_params())"
      ],
      "execution_count": 25,
      "outputs": [
        {
          "output_type": "stream",
          "text": [
            "Parameters currently in use:\n",
            "\n",
            "{'ccp_alpha': 0.0,\n",
            " 'criterion': 'friedman_mse',\n",
            " 'init': None,\n",
            " 'learning_rate': 0.1,\n",
            " 'loss': 'deviance',\n",
            " 'max_depth': None,\n",
            " 'max_features': 'sqrt',\n",
            " 'max_leaf_nodes': None,\n",
            " 'min_impurity_decrease': 0.0,\n",
            " 'min_impurity_split': None,\n",
            " 'min_samples_leaf': 1,\n",
            " 'min_samples_split': 2,\n",
            " 'min_weight_fraction_leaf': 0.0,\n",
            " 'n_estimators': 400,\n",
            " 'n_iter_no_change': None,\n",
            " 'presort': 'deprecated',\n",
            " 'random_state': None,\n",
            " 'subsample': 1.0,\n",
            " 'tol': 0.0001,\n",
            " 'validation_fraction': 0.1,\n",
            " 'verbose': 0,\n",
            " 'warm_start': False}\n"
          ],
          "name": "stdout"
        }
      ]
    },
    {
      "cell_type": "code",
      "metadata": {
        "id": "aGH8zYx4KU7n",
        "colab_type": "code",
        "colab": {
          "base_uri": "https://localhost:8080/",
          "height": 103
        },
        "outputId": "17d2fa3b-86e1-49ac-c93f-49192e31a73f"
      },
      "source": [
        "# Optimizing with RandomizedSearchCV\n",
        "from sklearn.model_selection import RandomizedSearchCV\n",
        "# Number of trees\n",
        "n_estimators = [int(x) for x in np.linspace(start = 200, stop = 1000, num = 5)]\n",
        "# Number of features to consider at every split\n",
        "max_features = ['auto', 'sqrt']\n",
        "# Maximum number of levels in tree\n",
        "# max_depth = [int(x) for x in np.linspace(10, 110, num = 11)]\n",
        "max_depth = [5, 8, 15, 25, 30]\n",
        "max_depth.append(None)\n",
        "# Minimum number of samples required to split a node\n",
        "min_samples_split = [2, 5, 10]\n",
        "# Minimum number of samples required at each leaf node\n",
        "min_samples_leaf = [1, 2, 4]\n",
        "\n",
        "# Create the random grid\n",
        "random_grid = {'n_estimators': n_estimators,\n",
        "               'max_features': max_features,\n",
        "               'max_depth': max_depth,\n",
        "               'min_samples_split': min_samples_split,\n",
        "               'min_samples_leaf': min_samples_leaf}\n",
        "pprint(random_grid)"
      ],
      "execution_count": 26,
      "outputs": [
        {
          "output_type": "stream",
          "text": [
            "{'max_depth': [5, 8, 15, 25, 30, None],\n",
            " 'max_features': ['auto', 'sqrt'],\n",
            " 'min_samples_leaf': [1, 2, 4],\n",
            " 'min_samples_split': [2, 5, 10],\n",
            " 'n_estimators': [200, 400, 600, 800, 1000]}\n"
          ],
          "name": "stdout"
        }
      ]
    },
    {
      "cell_type": "code",
      "metadata": {
        "id": "05rubOYPKZwy",
        "colab_type": "code",
        "colab": {
          "base_uri": "https://localhost:8080/",
          "height": 550
        },
        "outputId": "94447877-c586-4886-b4d7-3dce14124f52"
      },
      "source": [
        "# Use the random grid to search for best hyperparameters\n",
        "# First create the base model to tune\n",
        "gb_clf_base = GradientBoostingClassifier()\n",
        "\n",
        "# Random search of parameters, using 3 fold cross validation, \n",
        "# search across 100 different combinations, and use all available cores\n",
        "gb_clf_random = RandomizedSearchCV(estimator = gb_clf_base, param_distributions = random_grid, \n",
        "                                    n_iter = 10, cv = 3, verbose = 2, random_state = 42, n_jobs = -1)\n",
        "\n",
        "# Fit the random search model\n",
        "gb_clf_random.fit(train_features, train_labels)"
      ],
      "execution_count": 27,
      "outputs": [
        {
          "output_type": "stream",
          "text": [
            "Fitting 3 folds for each of 10 candidates, totalling 30 fits\n"
          ],
          "name": "stdout"
        },
        {
          "output_type": "stream",
          "text": [
            "[Parallel(n_jobs=-1)]: Using backend LokyBackend with 2 concurrent workers.\n",
            "[Parallel(n_jobs=-1)]: Done  30 out of  30 | elapsed: 41.4min finished\n"
          ],
          "name": "stderr"
        },
        {
          "output_type": "execute_result",
          "data": {
            "text/plain": [
              "RandomizedSearchCV(cv=3, error_score=nan,\n",
              "                   estimator=GradientBoostingClassifier(ccp_alpha=0.0,\n",
              "                                                        criterion='friedman_mse',\n",
              "                                                        init=None,\n",
              "                                                        learning_rate=0.1,\n",
              "                                                        loss='deviance',\n",
              "                                                        max_depth=3,\n",
              "                                                        max_features=None,\n",
              "                                                        max_leaf_nodes=None,\n",
              "                                                        min_impurity_decrease=0.0,\n",
              "                                                        min_impurity_split=None,\n",
              "                                                        min_samples_leaf=1,\n",
              "                                                        min_samples_split=2,\n",
              "                                                        min_weight_fraction_leaf=0.0,\n",
              "                                                        n_estimators=100,\n",
              "                                                        n_ite...\n",
              "                                                        validation_fraction=0.1,\n",
              "                                                        verbose=0,\n",
              "                                                        warm_start=False),\n",
              "                   iid='deprecated', n_iter=10, n_jobs=-1,\n",
              "                   param_distributions={'max_depth': [5, 8, 15, 25, 30, None],\n",
              "                                        'max_features': ['auto', 'sqrt'],\n",
              "                                        'min_samples_leaf': [1, 2, 4],\n",
              "                                        'min_samples_split': [2, 5, 10],\n",
              "                                        'n_estimators': [200, 400, 600, 800,\n",
              "                                                         1000]},\n",
              "                   pre_dispatch='2*n_jobs', random_state=42, refit=True,\n",
              "                   return_train_score=False, scoring=None, verbose=2)"
            ]
          },
          "metadata": {
            "tags": []
          },
          "execution_count": 27
        }
      ]
    },
    {
      "cell_type": "code",
      "metadata": {
        "id": "FFI97KQpKx0O",
        "colab_type": "code",
        "colab": {
          "base_uri": "https://localhost:8080/",
          "height": 103
        },
        "outputId": "93b53de7-21d4-423a-ff2a-e79289bcea93"
      },
      "source": [
        "# Best parameters from fitting the random search\n",
        "gb_clf_random.best_params_"
      ],
      "execution_count": 28,
      "outputs": [
        {
          "output_type": "execute_result",
          "data": {
            "text/plain": [
              "{'max_depth': 30,\n",
              " 'max_features': 'sqrt',\n",
              " 'min_samples_leaf': 1,\n",
              " 'min_samples_split': 10,\n",
              " 'n_estimators': 800}"
            ]
          },
          "metadata": {
            "tags": []
          },
          "execution_count": 28
        }
      ]
    },
    {
      "cell_type": "markdown",
      "metadata": {
        "id": "R_Duz7Z9m8zO",
        "colab_type": "text"
      },
      "source": [
        "### Optimized Hyperparameter"
      ]
    },
    {
      "cell_type": "code",
      "metadata": {
        "id": "0dg0RG3vTcTa",
        "colab_type": "code",
        "outputId": "a5ae9284-e74a-4c3b-cb4e-cb082aa35783",
        "colab": {
          "base_uri": "https://localhost:8080/",
          "height": 86
        }
      },
      "source": [
        "# Gradient Boosting for classification\n",
        "gb_clf_best = GradientBoostingClassifier(n_estimators=gb_clf_random.best_params_['n_estimators'], \n",
        "                                         min_samples_split=gb_clf_random.best_params_['min_samples_split'], \n",
        "                                         min_samples_leaf=gb_clf_random.best_params_['min_samples_leaf'], \n",
        "                                         max_features=gb_clf_random.best_params_['max_features'], \n",
        "                                         max_depth=gb_clf_random.best_params_['max_depth'])\n",
        "# gb_clf_best = GradientBoostingClassifier(n_estimators=600, min_samples_split=10, min_samples_leaf=2, max_features='sqrt', max_depth=25)\n",
        "\n",
        "# Train the model with training set\n",
        "gb_clf_best.fit(train_features, train_labels)\n",
        "\n",
        "# Score\n",
        "print('Training data score: ' + str(gb_clf_best.score(train_features, train_labels)))\n",
        "print('Testing data score: ' + str(gb_clf_best.score(test_features, test_labels)))\n",
        "\n",
        "# Brier score\n",
        "print('Training Brier score: ' + str(brier_score_loss(train_labels, gb_clf_best.predict(train_features))))\n",
        "print('Testing Brier score: ' + str(brier_score_loss(test_labels, gb_clf_best.predict(test_features))))"
      ],
      "execution_count": 29,
      "outputs": [
        {
          "output_type": "stream",
          "text": [
            "Training data score: 0.9997952288317805\n",
            "Testing data score: 0.9960881509794554\n",
            "Training Brier score: 0.0002047711682195147\n",
            "Testing Brier score: 0.003911849020544673\n"
          ],
          "name": "stdout"
        }
      ]
    },
    {
      "cell_type": "code",
      "metadata": {
        "id": "vH8rZLIjnf9A",
        "colab_type": "code",
        "outputId": "42f11b49-ed1d-46db-a9f0-76da5e9f91d2",
        "colab": {
          "base_uri": "https://localhost:8080/",
          "height": 378
        }
      },
      "source": [
        "mat = confusion_matrix(test_labels, gb_clf_best.predict(test_features))\n",
        "print(mat)\n",
        "\n",
        "# Plot matrix\n",
        "import matplotlib as mpl\n",
        "import matplotlib.pyplot as plt \n",
        "import seaborn as sns\n",
        "mpl.style.use('fivethirtyeight')\n",
        "\n",
        "labels_str = ['liquid', 'solid']\n",
        "sns.heatmap(mat.T, square=True, annot=True, fmt='d', cbar=False,\n",
        "            xticklabels=labels_str, yticklabels=labels_str, cmap='RdYlGn')\n",
        "plt.title('Precipitation Type')\n",
        "plt.xlabel('True Label')\n",
        "plt.ylabel('Predicted Label')\n",
        "plt.tight_layout()\n",
        "plt.savefig('./gb_clf_best_conf_mat.png', dpi=600)"
      ],
      "execution_count": 30,
      "outputs": [
        {
          "output_type": "stream",
          "text": [
            "[[20026    92]\n",
            " [   39 13331]]\n"
          ],
          "name": "stdout"
        },
        {
          "output_type": "stream",
          "text": [
            "/usr/local/lib/python3.6/dist-packages/statsmodels/tools/_testing.py:19: FutureWarning: pandas.util.testing is deprecated. Use the functions in the public API at pandas.testing instead.\n",
            "  import pandas.util.testing as tm\n"
          ],
          "name": "stderr"
        },
        {
          "output_type": "display_data",
          "data": {
            "image/png": "[encoded data removed]",
            "text/plain": [
              "<Figure size 432x288 with 1 Axes>"
            ]
          },
          "metadata": {
            "tags": []
          }
        }
      ]
    },
    {
      "cell_type": "code",
      "metadata": {
        "id": "VdSncz5Toj0o",
        "colab_type": "code",
        "colab": {}
      },
      "source": [
        "# Probabilities for logistic regression\n",
        "train_prob = gb_clf_best.predict_proba(train_features)\n",
        "test_prob = gb_clf_best.predict_proba(test_features)"
      ],
      "execution_count": 0,
      "outputs": []
    },
    {
      "cell_type": "code",
      "metadata": {
        "id": "IhARww_OD9ZY",
        "colab_type": "code",
        "colab": {}
      },
      "source": [
        "# Climatological probability\n",
        "def get_climo(labels, shape):\n",
        "    climo = (np.size((labels == 1).nonzero()))/float(np.size(labels))\n",
        "    prob  = np.zeros((shape))\n",
        "    prob[:,0] = 1-climo\n",
        "    prob[:,1] = climo\n",
        "\n",
        "    return prob"
      ],
      "execution_count": 0,
      "outputs": []
    },
    {
      "cell_type": "code",
      "metadata": {
        "id": "18Dx1EcLo2vT",
        "colab_type": "code",
        "colab": {}
      },
      "source": [
        "# Calculate climatological probability for training and testing data\n",
        "train_climo_prob = get_climo(train_labels, train_prob.shape)\n",
        "test_climo_prob = get_climo(test_labels, test_prob.shape)"
      ],
      "execution_count": 0,
      "outputs": []
    },
    {
      "cell_type": "code",
      "metadata": {
        "id": "5rlZgFefo78L",
        "colab_type": "code",
        "colab": {}
      },
      "source": [
        "# Calculate the Brier Skill Score\n",
        "train_bss = 1 - (brier_score_loss(train_labels, train_prob[:,1])/brier_score_loss(train_labels, train_climo_prob[:,1]))\n",
        "test_bss = 1 - (brier_score_loss(test_labels, test_prob[:,1])/brier_score_loss(test_labels, test_climo_prob[:,1]))"
      ],
      "execution_count": 0,
      "outputs": []
    },
    {
      "cell_type": "code",
      "metadata": {
        "id": "kekLl3T0qPLq",
        "colab_type": "code",
        "outputId": "5132863f-4211-45ef-c712-906f18a33059",
        "colab": {
          "base_uri": "https://localhost:8080/",
          "height": 51
        }
      },
      "source": [
        "# Bier skill score (USE THIS ONE!!)\n",
        "print('Training Brier Skill Score: ' + str(train_bss))\n",
        "print('Testing Brier Skill Score: ' + str(test_bss))"
      ],
      "execution_count": 35,
      "outputs": [
        {
          "output_type": "stream",
          "text": [
            "Training Brier Skill Score: 0.9995734097744778\n",
            "Testing Brier Skill Score: 0.9845175465157162\n"
          ],
          "name": "stdout"
        }
      ]
    },
    {
      "cell_type": "code",
      "metadata": {
        "id": "BGPO8ARVxV3X",
        "colab_type": "code",
        "colab": {}
      },
      "source": [
        ""
      ],
      "execution_count": 0,
      "outputs": []
    }
  ]
}